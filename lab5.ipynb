{
 "cells": [
  {
   "cell_type": "markdown",
   "metadata": {},
   "source": [
    "## Lab 5. Threat hunting\n",
    "\n",
    "### Miembros\n",
    "* Fernanda Esquivel - 21542\n",
    "\n",
    "### Link al repositorio\n",
    "El repositorio puede ser visualizado [acá](https://github.com/FerEsq/SDS-Lab-05)"
   ]
  },
  {
   "cell_type": "code",
   "execution_count": 1,
   "metadata": {},
   "outputs": [],
   "source": [
    "import json\n",
    "import pandas as pd\n",
    "from pandas import json_normalize"
   ]
  },
  {
   "cell_type": "code",
   "execution_count": 4,
   "metadata": {},
   "outputs": [],
   "source": [
    "# Configuración para mostrar más columnas en pandas\n",
    "pd.set_option('display.max_columns', 20)\n",
    "pd.set_option('display.width', 1000)"
   ]
  },
  {
   "cell_type": "code",
   "execution_count": 16,
   "metadata": {},
   "outputs": [],
   "source": [
    "allRecords = []\n",
    "\n",
    "try:\n",
    "    with open('data/large_eve.json', 'r') as file:\n",
    "        for line in file:\n",
    "            line = line.strip()\n",
    "            if line:  #Ignorar lineas vacías\n",
    "                try:\n",
    "                    record = json.loads(line)\n",
    "                    allRecords.append(record)\n",
    "                except json.JSONDecodeError as e:\n",
    "                    print(f\"Error al decodificar JSON en línea: {line[:50]}... - Error: {e}\")\n",
    "                    continue\n",
    "except Exception as e:\n",
    "    print(f\"Error al procesar el archivo: {e}\")"
   ]
  },
  {
   "cell_type": "code",
   "execution_count": 14,
   "metadata": {},
   "outputs": [
    {
     "name": "stdout",
     "output_type": "stream",
     "text": [
      "Total de registros: 746909\n"
     ]
    }
   ],
   "source": [
    "#Mostrar cantidad de registros total\n",
    "totalRecords = len(allRecords)\n",
    "print(f\"Total de registros: {totalRecords}\")"
   ]
  },
  {
   "cell_type": "code",
   "execution_count": 10,
   "metadata": {},
   "outputs": [],
   "source": [
    "#Filtrar únicamente registros DNS\n",
    "dnsRecords = [record for record in allRecords if record.get('event_type') == 'dns']"
   ]
  },
  {
   "cell_type": "code",
   "execution_count": 19,
   "metadata": {},
   "outputs": [
    {
     "name": "stdout",
     "output_type": "stream",
     "text": [
      "Total de registros DNS: 15749\n"
     ]
    }
   ],
   "source": [
    "#Mostrar la nueva cantidad de registros filtrados\n",
    "dnsCount = len(dnsRecords)\n",
    "print(f\"Total de registros DNS: {dnsCount}\")"
   ]
  },
  {
   "cell_type": "code",
   "execution_count": 21,
   "metadata": {},
   "outputs": [
    {
     "name": "stdout",
     "output_type": "stream",
     "text": [
      "\n",
      "4. Muestra de 2 registros DNS:\n",
      "\n",
      "Registro 1:\n",
      "{\n",
      "  \"timestamp\": \"2017-07-22T17:33:16.661646-0500\",\n",
      "  \"flow_id\": 1327836194150542,\n",
      "  \"pcap_cnt\": 22269,\n",
      "  \"event_type\": \"dns\",\n",
      "  \"vlan\": 110,\n",
      "  \"src_ip\": \"2001:0dbb:0c18:0011:0260:6eff:fe30:0863\",\n",
      "  \"src_port\": 59680,\n",
      "  \"dest_ip\": \"2001:0500:0001:0000:0000:0000:803f:0235\",\n",
      "  \"dest_port\": 53,\n",
      "  \"proto\": \"UDP\",\n",
      "  \"dns\": {\n",
      "    \"type\": \"query\",\n",
      "    \"id\": 15529,\n",
      "    \"rrname\": \"api.wunderground.com\",\n",
      "    \"rrtype\": \"A\",\n",
      "    \"tx_id\": 0\n",
      "  }\n",
      "}\n",
      "\n",
      "Registro 2:\n",
      "{\n",
      "  \"timestamp\": \"2017-07-22T17:33:24.990320-0500\",\n",
      "  \"flow_id\": 2022925111925872,\n",
      "  \"pcap_cnt\": 54352,\n",
      "  \"event_type\": \"dns\",\n",
      "  \"vlan\": 110,\n",
      "  \"src_ip\": \"2001:0dbb:0c18:0011:0260:6eff:fe30:0863\",\n",
      "  \"src_port\": 38051,\n",
      "  \"dest_ip\": \"2001:0500:0003:0000:0000:0000:0000:0042\",\n",
      "  \"dest_port\": 53,\n",
      "  \"proto\": \"UDP\",\n",
      "  \"dns\": {\n",
      "    \"type\": \"query\",\n",
      "    \"id\": 58278,\n",
      "    \"rrname\": \"stork79.dropbox.com\",\n",
      "    \"rrtype\": \"A\",\n",
      "    \"tx_id\": 0\n",
      "  }\n",
      "}\n"
     ]
    }
   ],
   "source": [
    "if dnsCount > 0:\n",
    "    print(\"\\n4. Muestra de 2 registros DNS:\")\n",
    "    for i, record in enumerate(dnsRecords[:min(2, dnsCount)]):\n",
    "        print(f\"\\nRegistro {i+1}:\")\n",
    "        print(json.dumps(record, indent=2))\n",
    "else:\n",
    "    print(\"\\nNo hay registros DNS para normalizar.\")"
   ]
  },
  {
   "cell_type": "code",
   "execution_count": 26,
   "metadata": {},
   "outputs": [
    {
     "name": "stdout",
     "output_type": "stream",
     "text": [
      "Shape del DataFrame: (15749, 18)\n",
      "\n",
      "Campos relacionados con DNS:\n",
      "- dns.type\n",
      "- dns.id\n",
      "- dns.rrname\n",
      "- dns.rrtype\n",
      "- dns.tx_id\n",
      "- dns.rcode\n",
      "- dns.ttl\n",
      "- dns.rdata\n",
      "\n",
      "Total de registros DNS tipo A: 2849\n",
      "\n",
      "Primeras filas de registros DNS tipo A:\n",
      "                         timestamp           flow_id  pcap_cnt event_type  vlan                                   src_ip  src_port                                  dest_ip  dest_port proto dns.type  dns.id            dns.rrname dns.rrtype  dns.tx_id dns.rcode  dns.ttl dns.rdata\n",
      "0  2017-07-22T17:33:16.661646-0500  1327836194150542     22269        dns   110  2001:0dbb:0c18:0011:0260:6eff:fe30:0863     59680  2001:0500:0001:0000:0000:0000:803f:0235         53   UDP    query   15529  api.wunderground.com          A        0.0       NaN      NaN       NaN\n",
      "1  2017-07-22T17:33:24.990320-0500  2022925111925872     54352        dns   110  2001:0dbb:0c18:0011:0260:6eff:fe30:0863     38051  2001:0500:0003:0000:0000:0000:0000:0042         53   UDP    query   58278   stork79.dropbox.com          A        0.0       NaN      NaN       NaN\n"
     ]
    }
   ],
   "source": [
    "#Normalizar la información JSON anidada y asignarla a un dataframe\n",
    "if dnsCount > 0:\n",
    "    df = json_normalize(dnsRecords)\n",
    "    print(f\"Shape del DataFrame: {df.shape}\")\n",
    "    \n",
    "    #Examinar campos relacionados con DNS para identificar el tipo\n",
    "    dnsFields = [col for col in df.columns if 'dns' in col.lower()]\n",
    "    print(\"\\nCampos relacionados con DNS:\")\n",
    "    for field in dnsFields:\n",
    "        print(f\"- {field}\")\n",
    "    \n",
    "    #Buscar el campo que contiene el tipo de registro DNS\n",
    "    dnsTypeCol = None\n",
    "    \n",
    "    #Posibles campos para el tipo DNS, basados en el formato observado\n",
    "    possibleTypeFields = [\n",
    "        'dns.type', 'dns.rrtype', 'dns.qtype', 'dns.rrname.type', \n",
    "        'dns.query.type', 'dns.answers.type', 'dns.answers.rrtype'\n",
    "    ]\n",
    "    \n",
    "    #Comprobar cuál de estos campos existe en el DataFrame\n",
    "    for field in possibleTypeFields:\n",
    "        if field in df.columns:\n",
    "            #Mostrar valores únicos para este campo\n",
    "            unique_values = df[field].dropna().unique()\n",
    "            \n",
    "            #Verificar si 'A' está entre los valores\n",
    "            if 'A' in unique_values or 1 in unique_values:  #El tipo A puede ser 1 en formato numérico\n",
    "                dnsTypeCol = field\n",
    "                break\n",
    "    \n",
    "    if dnsTypeCol:        \n",
    "        #Filtrar por tipo A (puede ser 'A' o 1 dependiendo del formato)\n",
    "        if 'A' in df[dnsTypeCol].values:\n",
    "            df_type_a = df[df[dnsTypeCol] == 'A']\n",
    "        elif 1 in df[dnsTypeCol].values:\n",
    "            df_type_a = df[df[dnsTypeCol] == 1]\n",
    "        else:\n",
    "            df_type_a = pd.DataFrame()  # DataFrame vacío si no hay coincidencias\n",
    "        \n",
    "        print(f\"\\nTotal de registros DNS tipo A: {len(df_type_a)}\")\n",
    "        \n",
    "        if not df_type_a.empty:\n",
    "            print(\"\\nPrimeras filas de registros DNS tipo A:\")\n",
    "            print(df_type_a.head(2))\n",
    "    else:\n",
    "        print(\"\\nNo se pudo identificar automáticamente el campo que contiene el tipo de registro DNS.\")\n",
    "        print(\"Buscando en la estructura de los registros originales...\")\n",
    "        \n",
    "        #Examinar directamente los registros para buscar indicios de tipo A\n",
    "        typeARecords = []\n",
    "        \n",
    "        for record in dnsRecords:\n",
    "            dns_field = record.get('dns', {})\n",
    "            \n",
    "            # Buscar 'type' = 'A' o type = 1 en diferentes ubicaciones\n",
    "            if isinstance(dns_field, dict):\n",
    "                # Verificar directamente en el campo dns\n",
    "                if dns_field.get('type') in ['A', 1]:\n",
    "                    typeARecords.append(record)\n",
    "                # Verificar en respuestas (answers)\n",
    "                elif 'answers' in dns_field and isinstance(dns_field['answers'], list):\n",
    "                    for answer in dns_field['answers']:\n",
    "                        if isinstance(answer, dict) and answer.get('type') in ['A', 1]:\n",
    "                            typeARecords.append(record)\n",
    "                            break\n",
    "        \n",
    "        if typeARecords:\n",
    "            print(f\"Encontrados {len(typeARecords)} registros DNS tipo A\")\n",
    "            print(\"\\nEjemplo de registro DNS tipo A:\")\n",
    "            print(json.dumps(typeARecords[0], indent=2))\n",
    "            \n",
    "            # Crear un dataframe con estos registros\n",
    "            df_type_a = json_normalize(typeARecords)\n",
    "            print(f\"Shape del DataFrame de registros tipo A: {df_type_a.shape}\")\n",
    "        else:\n",
    "            print(\"No se encontraron registros DNS tipo A.\")\n",
    "else:\n",
    "    print(\"\\nNo hay registros DNS para normalizar o filtrar.\")"
   ]
  },
  {
   "cell_type": "code",
   "execution_count": 30,
   "metadata": {},
   "outputs": [
    {
     "name": "stdout",
     "output_type": "stream",
     "text": [
      "Columna candidata para dominio: dns.rrname\n",
      "\n",
      "Total de dominios únicos: 177\n"
     ]
    }
   ],
   "source": [
    "#Filtrar dominios únicos\n",
    "#Identificar la columna que contiene el nombre de dominio\n",
    "domainColumn = None\n",
    "possibleDomainColumns = [\n",
    "    'dns.rrname', 'dns.query.rrname', 'dns.query', 'dns.answers.rrname', \n",
    "    'dns.qname', 'dns.request', 'dns.queries.rrname'\n",
    "]\n",
    "\n",
    "for col in possibleDomainColumns:\n",
    "    if col in df_type_a.columns:\n",
    "        print(f\"Columna candidata para dominio: {col}\")\n",
    "        domainColumn = col\n",
    "        break\n",
    "\n",
    "if not domainColumn:\n",
    "    # Buscar cualquier columna que pueda contener dominios\n",
    "    for col in df_type_a.columns:\n",
    "        if any('name' in col.lower() or 'domain' in col.lower() or 'host' in col.lower() for part in col.split('.')):\n",
    "            print(f\"Encontrada posible columna de dominio: {col}\")\n",
    "            domainColumn = col\n",
    "            break\n",
    "\n",
    "if domainColumn:\n",
    "    \n",
    "    #Crear DataFrame de dominios únicos\n",
    "    uniqueDomains = df_type_a[domainColumn].dropna().unique()\n",
    "    print(f\"\\nTotal de dominios únicos: {len(uniqueDomains)}\")\n",
    "    \n",
    "    if len(uniqueDomains) > 0:        \n",
    "        #Crear DataFrame de dominios únicos\n",
    "        domainsDF = pd.DataFrame({domainColumn: uniqueDomains})\n",
    "    else:\n",
    "        print(\"No se encontraron dominios únicos.\")\n",
    "        domainsDF = pd.DataFrame()\n",
    "else:\n",
    "    print(\"No se pudo identificar la columna que contiene los nombres de dominio.\")\n",
    "    \n",
    "    #Intentar buscar dominios directamente en los registros\n",
    "    domainsSet = set()\n",
    "    for record in typeARecords:\n",
    "        dnsData = record.get('dns', {})\n",
    "        \n",
    "        # Buscar en diferentes campos posibles\n",
    "        possibleFields = ['rrname', 'query', 'qname', 'request']\n",
    "        for field in possibleFields:\n",
    "            if field in dnsData and isinstance(dnsData[field], str):\n",
    "                domainsSet.add(dnsData[field])\n",
    "            \n",
    "        # Buscar en respuestas\n",
    "        if 'answers' in dnsData and isinstance(dnsData['answers'], list):\n",
    "            for answer in dnsData['answers']:\n",
    "                if isinstance(answer, dict) and 'rrname' in answer:\n",
    "                    domainsSet.add(answer['rrname'])\n",
    "    \n",
    "    if domainsSet:\n",
    "        print(f\"Encontrados {len(domainsSet)} dominios únicos buscando directamente en los registros\")\n",
    "        \n",
    "        uniqueDomains = list(domainsSet)\n",
    "        print(\"\\nEjemplos de dominios:\")\n",
    "        for domain in uniqueDomains[:min(5, len(uniqueDomains))]:\n",
    "            print(f\"- {domain}\")\n",
    "        \n",
    "        # Crear DataFrame con estos dominios\n",
    "        domainsDF = pd.DataFrame({'domain': uniqueDomains})\n",
    "        domainColumn = 'domain'\n",
    "    else:\n",
    "        print(\"No se encontraron dominios.\")\n",
    "        domainsDF = pd.DataFrame()\n",
    "        domainColumn = None"
   ]
  },
  {
   "cell_type": "markdown",
   "metadata": {},
   "source": [
    "**Prompt utilizado**: *Para el jupyter notebook adjunto, realiza una función en python que obtenga el TLD para un dominio. Por ejemplo, para api.wunderground.com el TLD es wunderground.com, para safebrowsing.clients.google.com.home, el TLD es home.*"
   ]
  },
  {
   "cell_type": "code",
   "execution_count": 31,
   "metadata": {},
   "outputs": [],
   "source": [
    "#Función para obtener el TLD de un dominio\n",
    "'''\n",
    "Descripción:\n",
    "    Obtiene el TLD (Top Level Domain) para un dominio.\n",
    "    \n",
    "Args:\n",
    "    domain (str): El nombre de dominio completo\n",
    "    \n",
    "Returns:\n",
    "    str: El TLD del dominio\n",
    "'''\n",
    "def getTLD(domain):\n",
    "    if not domain or not isinstance(domain, str):\n",
    "        return None\n",
    "    \n",
    "    # Dividir por puntos y obtener las últimas dos partes\n",
    "    parts = domain.strip().split('.')\n",
    "    \n",
    "    if len(parts) <= 1:\n",
    "        return domain  # No hay TLD para un dominio sin puntos\n",
    "    elif len(parts) == 2:\n",
    "        return domain  # El dominio ya es un TLD (example.com)\n",
    "    else:\n",
    "        # Casos como .co.uk o .com.br necesitarían tratamiento especial\n",
    "        # Pero para el caso general, tomamos las últimas dos partes como TLD\n",
    "        \n",
    "        # Para el caso especial mencionado: safebrowsing.clients.google.com.home\n",
    "        # La última parte es 'home', lo que debería ser el TLD\n",
    "        if parts[-1].lower() in ['home', 'local', 'internal', 'lan', 'corp', 'intranet']:\n",
    "            return parts[-1]\n",
    "        \n",
    "        # Para dominios como api.wunderground.com, el TLD sería wunderground.com\n",
    "        return f\"{parts[-2]}.{parts[-1]}\""
   ]
  },
  {
   "cell_type": "code",
   "execution_count": 32,
   "metadata": {},
   "outputs": [
    {
     "name": "stdout",
     "output_type": "stream",
     "text": [
      "Shape del DataFrame final: (177, 1)\n",
      "\n",
      "Primeros 10 TLDs:\n",
      "         domain_tld\n",
      "0  wunderground.com\n",
      "1       dropbox.com\n",
      "2         aoltw.net\n",
      "3              home\n",
      "4       mozilla.com\n",
      "5    metasploit.com\n",
      "6           aol.com\n",
      "7         aoltw.net\n",
      "8           aol.com\n",
      "9           aol.com\n",
      "\n",
      "Total de TLDs únicos: 106\n",
      "\n",
      "TLDs más frecuentes:\n",
      "domain_tld\n",
      "aoltw.net         15\n",
      "aol.com           11\n",
      "google.com        10\n",
      "stayonline.net     6\n",
      "microsoft.com      6\n",
      "home               4\n",
      "mozilla.com        4\n",
      "comcast.net        4\n",
      "apple.com          4\n",
      "me.com             3\n",
      "Name: count, dtype: int64\n"
     ]
    }
   ],
   "source": [
    "#Aplicar la función para obtener el TLD y crear la columna\n",
    "if not domainsDF.empty and domainColumn:\n",
    "    \n",
    "    # Aplicar la función a cada dominio\n",
    "    domainsDF['domain_tld'] = domainsDF[domainColumn].apply(getTLD)\n",
    "    \n",
    "    # Eliminar todas las demás columnas, quedarse solo con domain_tld\n",
    "    domainsDF = domainsDF[['domain_tld']]\n",
    "    \n",
    "    print(f\"Shape del DataFrame final: {domainsDF.shape}\")\n",
    "    print(\"\\nPrimeros 10 TLDs:\")\n",
    "    print(domainsDF.head(10))\n",
    "    \n",
    "    # Mostrar la cantidad de TLDs únicos\n",
    "    unique_tlds = domainsDF['domain_tld'].nunique()\n",
    "    print(f\"\\nTotal de TLDs únicos: {unique_tlds}\")\n",
    "    \n",
    "    # Mostrar los TLDs más frecuentes\n",
    "    print(\"\\nTLDs más frecuentes:\")\n",
    "    print(domainsDF['domain_tld'].value_counts().head(10))"
   ]
  }
 ],
 "metadata": {
  "kernelspec": {
   "display_name": "Python 3",
   "language": "python",
   "name": "python3"
  },
  "language_info": {
   "codemirror_mode": {
    "name": "ipython",
    "version": 3
   },
   "file_extension": ".py",
   "mimetype": "text/x-python",
   "name": "python",
   "nbconvert_exporter": "python",
   "pygments_lexer": "ipython3",
   "version": "3.10.11"
  }
 },
 "nbformat": 4,
 "nbformat_minor": 2
}
